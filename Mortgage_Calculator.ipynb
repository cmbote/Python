{
  "nbformat": 4,
  "nbformat_minor": 0,
  "metadata": {
    "colab": {
      "name": "Mortgage Calculator.ipynb",
      "provenance": []
    },
    "kernelspec": {
      "name": "python3",
      "display_name": "Python 3"
    },
    "language_info": {
      "name": "python"
    }
  },
  "cells": [
    {
      "cell_type": "code",
      "metadata": {
        "colab": {
          "base_uri": "https://localhost:8080/"
        },
        "id": "A_55kqtpRLt2",
        "outputId": "3e00581c-4544-4067-c15a-c76adf056253"
      },
      "source": [
        "def mortgage():\n",
        "    prin = int(input(\"How much do you want to borrower? \"))\n",
        "    years = int(input(\"For how long? (Please enter # of years) \"))\n",
        "    rate = int(input(\"What is the interest rate? \"))/100/12\n",
        "    time = years *12 \n",
        "\n",
        "    # How much would the monthly payment be for a 30 year mortgage (30 * 12 = 360 month term) \n",
        "    # with a 400,000 dollar principal and a 3% APR (interest rate with fees included)? \n",
        "    payment = prin /((((1+rate)**time)-1)/(rate*(1+rate)**time))\n",
        "    return(payment)\n",
        "\n",
        "\n",
        "print(f\"The monthly mortgage payment is ${mortgage():.2f}\")"
      ],
      "execution_count": 2,
      "outputs": [
        {
          "output_type": "stream",
          "text": [
            "How much do you want to borrower? 400000\n",
            "For how long? (Please enter # of years) 30\n",
            "What is the interest rate? 3\n",
            "The monthly mortgage payment is $1686.42\n"
          ],
          "name": "stdout"
        }
      ]
    }
  ]
}